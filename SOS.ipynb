{
 "cells": [
  {
   "cell_type": "code",
   "execution_count": 8,
   "id": "1a0a5866",
   "metadata": {},
   "outputs": [
    {
     "name": "stdout",
     "output_type": "stream",
     "text": [
      "✅ SOS email sent successfully!\n"
     ]
    }
   ],
   "source": [
    "import smtplib\n",
    "from email.mime.text import MIMEText\n",
    "import requests\n",
    "from datetime import datetime\n",
    "\n",
    "# === USER CONFIGURATION ===\n",
    "USER_NAME = \"John Doe\"\n",
    "USER_PHONE = \"+919599060209\"\n",
    "EMERGENCY_EMAIL = \"vshalrawal@gmail.com\"\n",
    "\n",
    "YOUR_EMAIL = \"goel2022vaasu@gmail.com\"\n",
    "YOUR_PASSWORD = \"xfjp yufv dvbi vakc\"\n",
    "\n",
    "# === Get location using IP ===\n",
    "def get_location():\n",
    "    try:\n",
    "        response = requests.get(\"https://ipinfo.io/json\")\n",
    "        data = response.json()\n",
    "        loc = data.get(\"loc\", \"N/A\")  # e.g., \"28.6139,77.2090\"\n",
    "        city = data.get(\"city\", \"Unknown\")\n",
    "        region = data.get(\"region\", \"\")\n",
    "        country = data.get(\"country\", \"\")\n",
    "        map_link = f\"https://www.google.com/maps?q={loc}\"\n",
    "        return f\"{city}, {region}, {country}\\nMap: {map_link}\"\n",
    "    except:\n",
    "        return \"Location unavailable\"\n",
    "\n",
    "# === Send SOS email ===\n",
    "def send_sos_email():\n",
    "    time_now = datetime.now().strftime(\"%Y-%m-%d %H:%M:%S\")\n",
    "    location = get_location()\n",
    "\n",
    "    msg_content = f\"\"\"\n",
    "    🚨 SOS ALERT 🚨\n",
    "\n",
    "    Name: {USER_NAME}\n",
    "    Phone: {USER_PHONE}\n",
    "    Time: {time_now}\n",
    "\n",
    "    Location:\n",
    "    {location}\n",
    "\n",
    "    Message: I need immediate help. Please contact me as soon as possible.\n",
    "    \"\"\"\n",
    "\n",
    "    msg = MIMEText(msg_content)\n",
    "    msg['Subject'] = \"🚨 SOS Message\"\n",
    "    msg['From'] = YOUR_EMAIL\n",
    "    msg['To'] = EMERGENCY_EMAIL\n",
    "\n",
    "    try:\n",
    "        with smtplib.SMTP_SSL('smtp.gmail.com', 465) as server:\n",
    "            server.login(YOUR_EMAIL, YOUR_PASSWORD)\n",
    "            server.send_message(msg)\n",
    "        print(\"✅ SOS email sent successfully!\")\n",
    "    except Exception as e:\n",
    "        print(f\"❌ Failed to send email: {e}\")\n",
    "\n",
    "# === Trigger it ===\n",
    "send_sos_email()"
   ]
  },
  {
   "cell_type": "code",
   "execution_count": null,
   "id": "21e23578",
   "metadata": {},
   "outputs": [],
   "source": []
  }
 ],
 "metadata": {
  "kernelspec": {
   "display_name": "Python 3",
   "language": "python",
   "name": "python3"
  },
  "language_info": {
   "codemirror_mode": {
    "name": "ipython",
    "version": 3
   },
   "file_extension": ".py",
   "mimetype": "text/x-python",
   "name": "python",
   "nbconvert_exporter": "python",
   "pygments_lexer": "ipython3",
   "version": "3.10.11"
  }
 },
 "nbformat": 4,
 "nbformat_minor": 5
}
