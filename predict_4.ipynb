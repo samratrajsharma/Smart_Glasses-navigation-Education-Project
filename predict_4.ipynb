{
 "cells": [
  {
   "cell_type": "code",
   "execution_count": 7,
   "id": "0d37d430",
   "metadata": {},
   "outputs": [
    {
     "name": "stdout",
     "output_type": "stream",
     "text": [
      "Model loaded successfully from rfclassifier_600.sav\n",
      "Processing image: 10.jpg\n"
     ]
    },
    {
     "name": "stderr",
     "output_type": "stream",
     "text": [
      "[Parallel(n_jobs=8)]: Using backend ThreadingBackend with 8 concurrent workers.\n",
      "[Parallel(n_jobs=8)]: Done  34 tasks      | elapsed:    0.0s\n",
      "[Parallel(n_jobs=8)]: Done 184 tasks      | elapsed:    0.1s\n",
      "[Parallel(n_jobs=8)]: Done 200 out of 200 | elapsed:    0.1s finished\n"
     ]
    },
    {
     "name": "stdout",
     "output_type": "stream",
     "text": [
      "Predicted class for 10.jpg: 10\n",
      "Processing image: 100.jpg\n"
     ]
    },
    {
     "name": "stderr",
     "output_type": "stream",
     "text": [
      "[Parallel(n_jobs=8)]: Using backend ThreadingBackend with 8 concurrent workers.\n",
      "[Parallel(n_jobs=8)]: Done  34 tasks      | elapsed:    0.0s\n",
      "[Parallel(n_jobs=8)]: Done 184 tasks      | elapsed:    0.0s\n",
      "[Parallel(n_jobs=8)]: Done 200 out of 200 | elapsed:    0.1s finished\n"
     ]
    },
    {
     "name": "stdout",
     "output_type": "stream",
     "text": [
      "Predicted class for 100.jpg: 100\n",
      "Processing image: 200.jpg\n"
     ]
    },
    {
     "name": "stderr",
     "output_type": "stream",
     "text": [
      "[Parallel(n_jobs=8)]: Using backend ThreadingBackend with 8 concurrent workers.\n",
      "[Parallel(n_jobs=8)]: Done  34 tasks      | elapsed:    0.0s\n",
      "[Parallel(n_jobs=8)]: Done 184 tasks      | elapsed:    0.0s\n",
      "[Parallel(n_jobs=8)]: Done 200 out of 200 | elapsed:    0.0s finished\n"
     ]
    },
    {
     "name": "stdout",
     "output_type": "stream",
     "text": [
      "Predicted class for 200.jpg: 200\n",
      "Processing image: 2000.jpg\n"
     ]
    },
    {
     "name": "stderr",
     "output_type": "stream",
     "text": [
      "[Parallel(n_jobs=8)]: Using backend ThreadingBackend with 8 concurrent workers.\n",
      "[Parallel(n_jobs=8)]: Done  34 tasks      | elapsed:    0.0s\n",
      "[Parallel(n_jobs=8)]: Done 184 tasks      | elapsed:    0.0s\n",
      "[Parallel(n_jobs=8)]: Done 200 out of 200 | elapsed:    0.0s finished\n"
     ]
    },
    {
     "name": "stdout",
     "output_type": "stream",
     "text": [
      "Predicted class for 2000.jpg: 2000\n",
      "Processing image: 500.jpg\n"
     ]
    },
    {
     "name": "stderr",
     "output_type": "stream",
     "text": [
      "[Parallel(n_jobs=8)]: Using backend ThreadingBackend with 8 concurrent workers.\n",
      "[Parallel(n_jobs=8)]: Done  34 tasks      | elapsed:    0.0s\n",
      "[Parallel(n_jobs=8)]: Done 184 tasks      | elapsed:    0.0s\n",
      "[Parallel(n_jobs=8)]: Done 200 out of 200 | elapsed:    0.0s finished\n"
     ]
    },
    {
     "name": "stdout",
     "output_type": "stream",
     "text": [
      "Predicted class for 500.jpg: 500\n",
      "Processing image: currency_test.jpg\n",
      "Predicted class for currency_test.jpg: 100\n"
     ]
    },
    {
     "name": "stderr",
     "output_type": "stream",
     "text": [
      "[Parallel(n_jobs=8)]: Using backend ThreadingBackend with 8 concurrent workers.\n",
      "[Parallel(n_jobs=8)]: Done  34 tasks      | elapsed:    0.0s\n",
      "[Parallel(n_jobs=8)]: Done 184 tasks      | elapsed:    0.0s\n",
      "[Parallel(n_jobs=8)]: Done 200 out of 200 | elapsed:    0.0s finished\n"
     ]
    }
   ],
   "source": [
    "import numpy as np\n",
    "import cv2\n",
    "import mahotas\n",
    "import os\n",
    "import sys\n",
    "import pickle\n",
    "import joblib  # Corrected import of joblib\n",
    "\n",
    "# Configure file paths and parameters\n",
    "TEST_FOLDER = \"test\"  # Path to your test folder containing images\n",
    "BOVW = \"bovw_codebook_600.pickle\"\n",
    "MODEL = 'rfclassifier_600.sav'\n",
    "IMG_SIZE = 320\n",
    "\n",
    "# Hu Moments\n",
    "def fd_hu_moments(image):\n",
    "    image = cv2.cvtColor(image, cv2.COLOR_BGR2GRAY)\n",
    "    feature = cv2.HuMoments(cv2.moments(image)).flatten()\n",
    "    return feature\n",
    "\n",
    "# Haralick Texture\n",
    "def fd_haralick(image):\n",
    "    gray = cv2.cvtColor(image, cv2.COLOR_BGR2GRAY)\n",
    "    haralick = mahotas.features.haralick(gray).mean(axis=0)\n",
    "    return haralick\n",
    "\n",
    "# Color Histogram\n",
    "def fd_histogram(image):\n",
    "    image = cv2.cvtColor(image, cv2.COLOR_BGR2HSV)\n",
    "    bins = 8\n",
    "    hist = cv2.calcHist([image], [0, 1, 2], None, [bins, bins, bins], [0, 256, 0, 256, 0, 256])\n",
    "    cv2.normalize(hist, hist)\n",
    "    return hist.flatten()\n",
    "\n",
    "# SIFT Bag of Visual Words\n",
    "def feature_extract(im):\n",
    "    gray = cv2.cvtColor(im, cv2.COLOR_BGR2GRAY)\n",
    "    sift = cv2.SIFT_create()  # Use cv2.SIFT_create() if you're using OpenCV 4.4.0+\n",
    "    keypoints = sift.detect(gray)\n",
    "    feature = bowDiction.compute(gray, keypoints)\n",
    "    return feature.squeeze()\n",
    "\n",
    "# Load the trained model\n",
    "try:\n",
    "    loaded_model = joblib.load(MODEL)\n",
    "    print(f\"Model loaded successfully from {MODEL}\")\n",
    "except Exception as e:\n",
    "    print(f\"Error loading model: {e}\")\n",
    "\n",
    "# Load the BOVW codebook\n",
    "with open(BOVW, \"rb\") as pickle_in:\n",
    "    dictionary = pickle.load(pickle_in)\n",
    "\n",
    "# Initialize SIFT BOW image descriptor extractor\n",
    "sift2 = cv2.SIFT_create()  # OpenCV 4.4.0+ use SIFT_create directly\n",
    "bowDiction = cv2.BOWImgDescriptorExtractor(sift2, cv2.BFMatcher(cv2.NORM_L2))\n",
    "bowDiction.setVocabulary(dictionary)\n",
    "\n",
    "# Class-label dictionary\n",
    "label = {0: \"10\", 1: \"20\", 2: \"50\", 3: \"100\", 4: \"200\", 5: \"500\", 6: \"2000\"}\n",
    "\n",
    "# Loop through all images in the test folder\n",
    "for image_filename in os.listdir(TEST_FOLDER):\n",
    "    image_path = os.path.join(TEST_FOLDER, image_filename)\n",
    "\n",
    "    # Skip non-image files\n",
    "    if not image_filename.lower().endswith(('.png', '.jpg', '.jpeg')):\n",
    "        continue\n",
    "    \n",
    "    # Read the image\n",
    "    image = cv2.imread(image_path)\n",
    "\n",
    "    # Check if the image was loaded correctly\n",
    "    if image is None:\n",
    "        print(f\"Error: The image at {image_path} could not be loaded. Skipping this file.\")\n",
    "        continue\n",
    "\n",
    "    # Resize the image\n",
    "    (height, width, channel) = image.shape\n",
    "    resize_ratio = 1.0 * (IMG_SIZE / max(width, height))\n",
    "    target_size = (int(resize_ratio * width), int(resize_ratio * height))\n",
    "    input_image = cv2.resize(image, target_size)\n",
    "\n",
    "    # Print the current image being processed\n",
    "    print(f\"Processing image: {image_filename}\")\n",
    "\n",
    "    # Extract the features\n",
    "    Hu = fd_hu_moments(input_image)\n",
    "    Harl = fd_haralick(input_image)\n",
    "    Hist = fd_histogram(input_image)\n",
    "    Bovw = feature_extract(input_image)\n",
    "\n",
    "    # Generate a feature vector by combining all features\n",
    "    mfeature = np.hstack([Hu, Harl, Hist, Bovw])\n",
    "\n",
    "    # Predict the output using the trained model\n",
    "    try:\n",
    "        output = loaded_model.predict(mfeature.reshape((1, -1)))\n",
    "        print(f\"Predicted class for {image_filename}: \" + label[output[0]])\n",
    "    except Exception as e:\n",
    "        print(f\"Error during prediction for {image_filename}: {e}\")\n"
   ]
  },
  {
   "cell_type": "code",
   "execution_count": null,
   "id": "6c4cd4d4",
   "metadata": {},
   "outputs": [],
   "source": []
  }
 ],
 "metadata": {
  "kernelspec": {
   "display_name": "Python 3",
   "language": "python",
   "name": "python3"
  },
  "language_info": {
   "codemirror_mode": {
    "name": "ipython",
    "version": 3
   },
   "file_extension": ".py",
   "mimetype": "text/x-python",
   "name": "python",
   "nbconvert_exporter": "python",
   "pygments_lexer": "ipython3",
   "version": "3.10.11"
  }
 },
 "nbformat": 4,
 "nbformat_minor": 5
}
