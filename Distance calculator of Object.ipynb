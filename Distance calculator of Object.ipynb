{
 "cells": [
  {
   "cell_type": "code",
   "execution_count": 1,
   "id": "af301883",
   "metadata": {},
   "outputs": [],
   "source": [
    "import cv2\n",
    "\n",
    "thres = 0.5\n",
    "\n",
    "def calculate_distance(box):\n",
    "    focal_length = 1000\n",
    "    known_object_width = 10\n",
    "    x, y, w, h = box\n",
    "    distance = (known_object_width * focal_length) / w\n",
    "    return distance\n",
    "\n",
    "cap = cv2.VideoCapture(0)\n",
    "cap.set(3, 640)\n",
    "cap.set(4, 480)\n",
    "classNames = []\n",
    "\n",
    "config_file = 'ssd_mobilenet_v3_large_coco_2020_01_14.pbtxt'\n",
    "weightsPath = 'frozen_inference_graph.pb'\n",
    "\n",
    "net = cv2.dnn_DetectionModel(weightsPath, config_file)\n",
    "net.setInputSize(320, 320)\n",
    "net.setInputScale(1.0 / 127.5)\n",
    "net.setInputMean((127.5, 127.5, 127.5))\n",
    "net.setInputSwapRB(True)\n",
    "\n",
    "while True:\n",
    "    success, img = cap.read()\n",
    "    classIds, confs, bbox = net.detect(img, confThreshold=thres)\n",
    "    \n",
    "    if len(classIds) != 0:\n",
    "        for classId, confidence, box in zip(classIds.flatten(), confs.flatten(), bbox):\n",
    "            distance = calculate_distance(box)\n",
    "            if distance < 25:\n",
    "                color = (0, 0, 255)\n",
    "            else:\n",
    "                color = (0, 255, 0)\n",
    "            cv2.rectangle(img, (box[0], box[1]), (box[0] + box[2], box[1] + box[3]), color, thickness=2)\n",
    "            cv2.putText(img, f'Distance: {distance:.2f} cm', (box[0], box[1] - 10), cv2.FONT_HERSHEY_SIMPLEX, 0.5, color, 2)\n",
    "\n",
    "    cv2.imshow(\"Output\", img)\n",
    "    if cv2.waitKey(1) == 27:\n",
    "        break\n",
    "\n",
    "cap.release()\n",
    "cv2.destroyAllWindows()\n"
   ]
  },
  {
   "cell_type": "code",
   "execution_count": null,
   "id": "c7cf0620",
   "metadata": {},
   "outputs": [],
   "source": []
  }
 ],
 "metadata": {
  "kernelspec": {
   "display_name": "Python 3",
   "language": "python",
   "name": "python3"
  },
  "language_info": {
   "codemirror_mode": {
    "name": "ipython",
    "version": 3
   },
   "file_extension": ".py",
   "mimetype": "text/x-python",
   "name": "python",
   "nbconvert_exporter": "python",
   "pygments_lexer": "ipython3",
   "version": "3.10.11"
  }
 },
 "nbformat": 4,
 "nbformat_minor": 5
}
