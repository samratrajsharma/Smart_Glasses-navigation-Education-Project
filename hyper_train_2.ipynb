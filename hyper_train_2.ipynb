{
 "cells": [
  {
   "cell_type": "code",
   "execution_count": 2,
   "id": "38d7c807",
   "metadata": {},
   "outputs": [
    {
     "name": "stdout",
     "output_type": "stream",
     "text": [
      "\n",
      "<====Model====>\n",
      "\n",
      "RandomForestClassifier(n_estimators=200, n_jobs=-1, verbose=1)\n",
      "\n",
      "<====Grid Search====>\n",
      "\n",
      "Fitting 3 folds for each of 900 candidates, totalling 2700 fits\n"
     ]
    },
    {
     "name": "stderr",
     "output_type": "stream",
     "text": [
      "[Parallel(n_jobs=-1)]: Using backend ThreadingBackend with 8 concurrent workers.\n",
      "[Parallel(n_jobs=-1)]: Done  34 tasks      | elapsed:    0.1s\n",
      "[Parallel(n_jobs=-1)]: Done 184 tasks      | elapsed:    0.7s\n",
      "[Parallel(n_jobs=-1)]: Done 300 out of 300 | elapsed:    1.4s finished\n",
      "[Parallel(n_jobs=8)]: Using backend ThreadingBackend with 8 concurrent workers.\n",
      "[Parallel(n_jobs=8)]: Done  34 tasks      | elapsed:    0.0s\n",
      "[Parallel(n_jobs=8)]: Done 184 tasks      | elapsed:    0.0s\n",
      "[Parallel(n_jobs=8)]: Done 300 out of 300 | elapsed:    0.0s finished\n"
     ]
    },
    {
     "name": "stdout",
     "output_type": "stream",
     "text": [
      "\n",
      "<====Best Model====>\n",
      "\n",
      "Best score:  0.9761904761904762\n",
      "Best parameters:  {'max_depth': 15, 'min_samples_leaf': 1, 'min_samples_split': 5, 'n_estimators': 300}\n",
      "Test accuracy: 99.05%\n",
      "\n",
      "Confusion Matrix:\n",
      "[[34  0  0  0  1  0  0]\n",
      " [ 0 33  0  0  0  0  0]\n",
      " [ 0  0 25  0  0  0  0]\n",
      " [ 0  0  0 27  0  0  0]\n",
      " [ 1  0  0  0 31  0  0]\n",
      " [ 0  0  0  0  0 31  0]\n",
      " [ 0  0  0  0  0  0 27]]\n"
     ]
    },
    {
     "data": {
      "image/png": "[encoded data removed]",
      "text/plain": [
       "<Figure size 1000x700 with 2 Axes>"
      ]
     },
     "metadata": {},
     "output_type": "display_data"
    }
   ],
   "source": [
    "import numpy as np\n",
    "import sys\n",
    "import matplotlib.pyplot as plt\n",
    "from sklearn.metrics import accuracy_score, confusion_matrix\n",
    "from sklearn.ensemble import RandomForestClassifier\n",
    "from sklearn.model_selection import train_test_split, GridSearchCV \n",
    "\n",
    "# Configure file paths\n",
    "DATA = 'model/data_600.npy'\n",
    "LABEL = 'model/label_600.npy'\n",
    "\n",
    "# Load data and labels\n",
    "data = np.load(DATA)\n",
    "label = np.load(LABEL)\n",
    "\n",
    "# Split the data into train and test\n",
    "x_train, x_test, y_train, y_test = train_test_split(data, label, test_size=0.20, random_state=42)\n",
    "\n",
    "# Initialize a random forest classifier\n",
    "print(\"\\n<====Model====>\\n\")\n",
    "clf = RandomForestClassifier(n_estimators=200, n_jobs=-1, verbose=1)\n",
    "print(clf)\n",
    "\n",
    "print(\"\\n<====Grid Search====>\\n\")\n",
    "\n",
    "# Enumerate search parameters\n",
    "n_estimators = [100, 300, 500, 800, 1200]\n",
    "max_depth = [5, 8, 15, 25, 30, 50, 70, 100, 150]\n",
    "min_samples_split = [2, 5, 10, 15, 100]\n",
    "min_samples_leaf = [1, 2, 5, 10] \n",
    "\n",
    "# Set up parameter dictionary\n",
    "hyperF = {\n",
    "    'n_estimators': n_estimators, \n",
    "    'max_depth': max_depth,  \n",
    "    'min_samples_split': min_samples_split, \n",
    "    'min_samples_leaf': min_samples_leaf\n",
    "}\n",
    "\n",
    "# Perform grid search\n",
    "gridF = GridSearchCV(clf, hyperF, cv=3, verbose=1, n_jobs=-1)\n",
    "bestF = gridF.fit(x_train, y_train)\n",
    "\n",
    "print(\"\\n<====Best Model====>\\n\")\n",
    "\n",
    "# Print the best parameters and score\n",
    "print(\"Best score: \", bestF.best_score_)\n",
    "print(\"Best parameters: \", bestF.best_params_)\n",
    "\n",
    "# Predict using the best model\n",
    "y_pred = bestF.predict(x_test)\n",
    "\n",
    "# Calculate accuracy\n",
    "accuracy = accuracy_score(y_test, y_pred)\n",
    "print(f\"Test accuracy: {accuracy * 100:.2f}%\")\n",
    "\n",
    "# Confusion Matrix\n",
    "cm = confusion_matrix(y_test, y_pred)\n",
    "print(\"\\nConfusion Matrix:\")\n",
    "print(cm)\n",
    "\n",
    "# Optionally, you can plot the confusion matrix\n",
    "plt.figure(figsize=(10, 7))\n",
    "plt.imshow(cm, cmap='Blues', interpolation='nearest')\n",
    "plt.title(\"Confusion Matrix\")\n",
    "plt.colorbar()\n",
    "plt.xticks(np.arange(len(np.unique(label))), np.unique(label))\n",
    "plt.yticks(np.arange(len(np.unique(label))), np.unique(label))\n",
    "plt.xlabel('Predicted labels')\n",
    "plt.ylabel('True labels')\n",
    "plt.show()\n"
   ]
  },
  {
   "cell_type": "code",
   "execution_count": null,
   "id": "6638000b",
   "metadata": {},
   "outputs": [],
   "source": []
  }
 ],
 "metadata": {
  "kernelspec": {
   "display_name": "Python 3",
   "language": "python",
   "name": "python3"
  },
  "language_info": {
   "codemirror_mode": {
    "name": "ipython",
    "version": 3
   },
   "file_extension": ".py",
   "mimetype": "text/x-python",
   "name": "python",
   "nbconvert_exporter": "python",
   "pygments_lexer": "ipython3",
   "version": "3.10.11"
  }
 },
 "nbformat": 4,
 "nbformat_minor": 5
}
